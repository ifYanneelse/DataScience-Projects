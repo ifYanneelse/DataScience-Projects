{
  "cells": [
    {
      "cell_type": "markdown",
      "metadata": {
        "id": "LY01vvA71B5H"
      },
      "source": [
        "#Forbes Billionaires Evolution (1997-2024)\n",
        "Análise dos Bilionários da Forbes (1997-2024)\n"
      ]
    },
    {
      "cell_type": "markdown",
      "metadata": {
        "id": "pwQhz70I1IyB"
      },
      "source": [
        "https://www.kaggle.com/datasets/guillemservera/forbes-billionaires-1997-2023"
      ]
    },
    {
      "cell_type": "markdown",
      "metadata": {
        "id": "a0CHAHaXuSLa"
      },
      "source": [
        "**Conjunto de dados oferece:**\n",
        "\n",
        "Classificações anuais.\n",
        "\n",
        "Detalhes e evolução do patrimônio líquido.\n",
        "\n",
        "Detalhes pessoais como nomes, idade, sexo e datas de nascimento.\n",
        "\n",
        "Detalhes de residência abrangendo país, cidade e cidadania.\n",
        "\n",
        "Categorias de negócios detalhadas e classificações do setor.\n",
        "\n",
        "Detalhes sobre afiliações com diversas organizações, incluindo cargos ocupados.\n",
        "\n",
        "Indicadores como “self-made” e a situação atual de riqueza."
      ]
    },
    {
      "cell_type": "markdown",
      "metadata": {
        "id": "OGY9zDcbqXy_"
      },
      "source": [
        "# Importando bibliotecas e dados"
      ]
    },
    {
      "cell_type": "code",
      "execution_count": null,
      "metadata": {
        "id": "T6181AHLfQn3"
      },
      "outputs": [],
      "source": [
        "import numpy as np\n",
        "import pandas as pd # estrutura dataframe\n",
        "import seaborn as sns # graficos\n",
        "import plotly.express as px # graficos de histograma\n",
        "import matplotlib.pyplot as plt\n",
        "from google.colab import drive"
      ]
    },
    {
      "cell_type": "code",
      "execution_count": null,
      "metadata": {
        "colab": {
          "base_uri": "https://localhost:8080/",
          "height": 819
        },
        "id": "FeZN51d1fT1Z",
        "outputId": "011901c8-6301-47fc-d583-36790986b747"
      },
      "outputs": [
        {
          "output_type": "stream",
          "name": "stderr",
          "text": [
            "<ipython-input-6-9534ee03e91d>:2: DtypeWarning: Columns (17) have mixed types. Specify dtype option on import or set low_memory=False.\n",
            "  dataset_billionaires = pd.read_csv(\"all_billionaires_1997_2024.csv\", encoding='ISO-8859-1', sep =',')\n"
          ]
        },
        {
          "output_type": "execute_result",
          "data": {
            "text/plain": [
              "    year  month  rank net_worth     last_name            first_name  \\\n",
              "0   1997      7   NaN     2.0 B  Sophonpanich                Chatri   \n",
              "1   1997      7   NaN     1.8 B     Adulyadej         King Bhumibol   \n",
              "2   1998      7   NaN     3.3 B         Safra                Edmond   \n",
              "3   1999      7   NaN     1.0 B       Hinduja  Srichand, Gopichand,   \n",
              "4   1999      7   NaN     7.1 B       Schwarz                Dieter   \n",
              "5   1999      7   NaN     1.3 B  Ardila Lulle                Carlos   \n",
              "6   1999      7   NaN     2.9 B         Ebner                Martin   \n",
              "7   1999      7   NaN     1.0 B       Cutrale                  Jose   \n",
              "8   1999      7   NaN     1.1 B           Lee                 Peter   \n",
              "9   1999      7   NaN     1.8 B         Kampf                 Serge   \n",
              "10  1999      7   NaN     2.5 B         Safra                Edmond   \n",
              "11  2000      7   NaN     1.0 B       Cutrale                  Jose   \n",
              "12  2000      7   NaN     1.9 B         Ebner                Martin   \n",
              "13  2000      7   NaN     4.5 B        Henkel                   NaN   \n",
              "14  2000      7   NaN     2.9 B           Vik             Alexander   \n",
              "\n",
              "                       full_name  birth_date   age gender  \\\n",
              "0   Chatri Sophonpanich & family  1934-02-28  73.0   Male   \n",
              "1        King Bhumibol Adulyadej  1927-12-05  69.0   Male   \n",
              "2                   Edmond Safra  1932-08-06  65.0   Male   \n",
              "3   Srichand & Gopichand Hinduja  1935-11-28   NaN    NaN   \n",
              "4                 Dieter Schwarz  1939-09-24  59.0   Male   \n",
              "5           Carlos Ardila LÃ¼lle  1930-06-04  68.0   Male   \n",
              "6                   Martin Ebner  1945-08-01  53.0   Male   \n",
              "7              Jose Luis Cutrale  1946-09-17   NaN   Male   \n",
              "8                     Lee family         NaN  71.0   Male   \n",
              "9                    Serge Kampf  1934-01-01  65.0   Male   \n",
              "10                  Edmond Safra  1932-08-06  66.0   Male   \n",
              "11             Jose Luis Cutrale  1946-09-17   NaN   Male   \n",
              "12                  Martin Ebner  1945-08-01  54.0   Male   \n",
              "13              Christoph Henkel  1958-02-11   NaN    NaN   \n",
              "14                 Alexander Vik  1955-02-19  45.0   Male   \n",
              "\n",
              "   country_of_citizenship country_of_residence city_of_residence  \\\n",
              "0                Thailand             Thailand           Bangkok   \n",
              "1                Thailand                  NaN               NaN   \n",
              "2                 Lebanon              Lebanon               NaN   \n",
              "3                   India       United Kingdom            London   \n",
              "4                 Germany              Germany        Neckarsulm   \n",
              "5                Colombia             Colombia            Bogota   \n",
              "6             Switzerland          Switzerland             Wilen   \n",
              "7                  Brazil               Brazil         Sao Paulo   \n",
              "8               Hong Kong            Hong Kong         Hong Kong   \n",
              "9                  France                  NaN               NaN   \n",
              "10                Lebanon                  NaN               NaN   \n",
              "11                 Brazil               Brazil         Sao Paulo   \n",
              "12            Switzerland          Switzerland             Wilen   \n",
              "13                Germany       United Kingdom            London   \n",
              "14                 Norway               Monaco            Monaco   \n",
              "\n",
              "          business_category          business_industries organization_name  \\\n",
              "0   Finance and Investments  ['Finance and Investments']               NaN   \n",
              "1                       NaN                          NaN               NaN   \n",
              "2                       NaN                          NaN               NaN   \n",
              "3                       NaN                          NaN               NaN   \n",
              "4          Fashion & Retail         ['Fashion & Retail']               NaN   \n",
              "5         Food and Beverage        ['Food and Beverage']               NaN   \n",
              "6   Finance and Investments  ['Finance and Investments']               NaN   \n",
              "7         Food and Beverage        ['Food and Beverage']               NaN   \n",
              "8                       NaN                          NaN               NaN   \n",
              "9                       NaN                          NaN               NaN   \n",
              "10                      NaN                          NaN               NaN   \n",
              "11        Food and Beverage        ['Food and Beverage']               NaN   \n",
              "12  Finance and Investments  ['Finance and Investments']               NaN   \n",
              "13         Fashion & Retail         ['Fashion & Retail']               NaN   \n",
              "14  Finance and Investments  ['Finance and Investments']               NaN   \n",
              "\n",
              "   position_in_organization self_made wealth_status  \n",
              "0                       NaN     False           NaN  \n",
              "1                       NaN     False           NaN  \n",
              "2                       NaN      True           NaN  \n",
              "3                       NaN     False           NaN  \n",
              "4                       NaN      True           NaN  \n",
              "5                       NaN      True           NaN  \n",
              "6                       NaN     False           NaN  \n",
              "7                       NaN      True           NaN  \n",
              "8                       NaN     False           NaN  \n",
              "9                       NaN     False           NaN  \n",
              "10                      NaN      True           NaN  \n",
              "11                      NaN      True           NaN  \n",
              "12                      NaN     False           NaN  \n",
              "13                      NaN     False           NaN  \n",
              "14                 Investor     False           NaN  "
            ],
            "text/html": [
              "\n",
              "  <div id=\"df-926dbc30-ca9e-41db-9ecf-f4b6f99074a8\" class=\"colab-df-container\">\n",
              "    <div>\n",
              "<style scoped>\n",
              "    .dataframe tbody tr th:only-of-type {\n",
              "        vertical-align: middle;\n",
              "    }\n",
              "\n",
              "    .dataframe tbody tr th {\n",
              "        vertical-align: top;\n",
              "    }\n",
              "\n",
              "    .dataframe thead th {\n",
              "        text-align: right;\n",
              "    }\n",
              "</style>\n",
              "<table border=\"1\" class=\"dataframe\">\n",
              "  <thead>\n",
              "    <tr style=\"text-align: right;\">\n",
              "      <th></th>\n",
              "      <th>year</th>\n",
              "      <th>month</th>\n",
              "      <th>rank</th>\n",
              "      <th>net_worth</th>\n",
              "      <th>last_name</th>\n",
              "      <th>first_name</th>\n",
              "      <th>full_name</th>\n",
              "      <th>birth_date</th>\n",
              "      <th>age</th>\n",
              "      <th>gender</th>\n",
              "      <th>country_of_citizenship</th>\n",
              "      <th>country_of_residence</th>\n",
              "      <th>city_of_residence</th>\n",
              "      <th>business_category</th>\n",
              "      <th>business_industries</th>\n",
              "      <th>organization_name</th>\n",
              "      <th>position_in_organization</th>\n",
              "      <th>self_made</th>\n",
              "      <th>wealth_status</th>\n",
              "    </tr>\n",
              "  </thead>\n",
              "  <tbody>\n",
              "    <tr>\n",
              "      <th>0</th>\n",
              "      <td>1997</td>\n",
              "      <td>7</td>\n",
              "      <td>NaN</td>\n",
              "      <td>2.0 B</td>\n",
              "      <td>Sophonpanich</td>\n",
              "      <td>Chatri</td>\n",
              "      <td>Chatri Sophonpanich &amp; family</td>\n",
              "      <td>1934-02-28</td>\n",
              "      <td>73.0</td>\n",
              "      <td>Male</td>\n",
              "      <td>Thailand</td>\n",
              "      <td>Thailand</td>\n",
              "      <td>Bangkok</td>\n",
              "      <td>Finance and Investments</td>\n",
              "      <td>['Finance and Investments']</td>\n",
              "      <td>NaN</td>\n",
              "      <td>NaN</td>\n",
              "      <td>False</td>\n",
              "      <td>NaN</td>\n",
              "    </tr>\n",
              "    <tr>\n",
              "      <th>1</th>\n",
              "      <td>1997</td>\n",
              "      <td>7</td>\n",
              "      <td>NaN</td>\n",
              "      <td>1.8 B</td>\n",
              "      <td>Adulyadej</td>\n",
              "      <td>King Bhumibol</td>\n",
              "      <td>King Bhumibol Adulyadej</td>\n",
              "      <td>1927-12-05</td>\n",
              "      <td>69.0</td>\n",
              "      <td>Male</td>\n",
              "      <td>Thailand</td>\n",
              "      <td>NaN</td>\n",
              "      <td>NaN</td>\n",
              "      <td>NaN</td>\n",
              "      <td>NaN</td>\n",
              "      <td>NaN</td>\n",
              "      <td>NaN</td>\n",
              "      <td>False</td>\n",
              "      <td>NaN</td>\n",
              "    </tr>\n",
              "    <tr>\n",
              "      <th>2</th>\n",
              "      <td>1998</td>\n",
              "      <td>7</td>\n",
              "      <td>NaN</td>\n",
              "      <td>3.3 B</td>\n",
              "      <td>Safra</td>\n",
              "      <td>Edmond</td>\n",
              "      <td>Edmond Safra</td>\n",
              "      <td>1932-08-06</td>\n",
              "      <td>65.0</td>\n",
              "      <td>Male</td>\n",
              "      <td>Lebanon</td>\n",
              "      <td>Lebanon</td>\n",
              "      <td>NaN</td>\n",
              "      <td>NaN</td>\n",
              "      <td>NaN</td>\n",
              "      <td>NaN</td>\n",
              "      <td>NaN</td>\n",
              "      <td>True</td>\n",
              "      <td>NaN</td>\n",
              "    </tr>\n",
              "    <tr>\n",
              "      <th>3</th>\n",
              "      <td>1999</td>\n",
              "      <td>7</td>\n",
              "      <td>NaN</td>\n",
              "      <td>1.0 B</td>\n",
              "      <td>Hinduja</td>\n",
              "      <td>Srichand, Gopichand,</td>\n",
              "      <td>Srichand &amp; Gopichand Hinduja</td>\n",
              "      <td>1935-11-28</td>\n",
              "      <td>NaN</td>\n",
              "      <td>NaN</td>\n",
              "      <td>India</td>\n",
              "      <td>United Kingdom</td>\n",
              "      <td>London</td>\n",
              "      <td>NaN</td>\n",
              "      <td>NaN</td>\n",
              "      <td>NaN</td>\n",
              "      <td>NaN</td>\n",
              "      <td>False</td>\n",
              "      <td>NaN</td>\n",
              "    </tr>\n",
              "    <tr>\n",
              "      <th>4</th>\n",
              "      <td>1999</td>\n",
              "      <td>7</td>\n",
              "      <td>NaN</td>\n",
              "      <td>7.1 B</td>\n",
              "      <td>Schwarz</td>\n",
              "      <td>Dieter</td>\n",
              "      <td>Dieter Schwarz</td>\n",
              "      <td>1939-09-24</td>\n",
              "      <td>59.0</td>\n",
              "      <td>Male</td>\n",
              "      <td>Germany</td>\n",
              "      <td>Germany</td>\n",
              "      <td>Neckarsulm</td>\n",
              "      <td>Fashion &amp; Retail</td>\n",
              "      <td>['Fashion &amp; Retail']</td>\n",
              "      <td>NaN</td>\n",
              "      <td>NaN</td>\n",
              "      <td>True</td>\n",
              "      <td>NaN</td>\n",
              "    </tr>\n",
              "    <tr>\n",
              "      <th>5</th>\n",
              "      <td>1999</td>\n",
              "      <td>7</td>\n",
              "      <td>NaN</td>\n",
              "      <td>1.3 B</td>\n",
              "      <td>Ardila Lulle</td>\n",
              "      <td>Carlos</td>\n",
              "      <td>Carlos Ardila LÃ¼lle</td>\n",
              "      <td>1930-06-04</td>\n",
              "      <td>68.0</td>\n",
              "      <td>Male</td>\n",
              "      <td>Colombia</td>\n",
              "      <td>Colombia</td>\n",
              "      <td>Bogota</td>\n",
              "      <td>Food and Beverage</td>\n",
              "      <td>['Food and Beverage']</td>\n",
              "      <td>NaN</td>\n",
              "      <td>NaN</td>\n",
              "      <td>True</td>\n",
              "      <td>NaN</td>\n",
              "    </tr>\n",
              "    <tr>\n",
              "      <th>6</th>\n",
              "      <td>1999</td>\n",
              "      <td>7</td>\n",
              "      <td>NaN</td>\n",
              "      <td>2.9 B</td>\n",
              "      <td>Ebner</td>\n",
              "      <td>Martin</td>\n",
              "      <td>Martin Ebner</td>\n",
              "      <td>1945-08-01</td>\n",
              "      <td>53.0</td>\n",
              "      <td>Male</td>\n",
              "      <td>Switzerland</td>\n",
              "      <td>Switzerland</td>\n",
              "      <td>Wilen</td>\n",
              "      <td>Finance and Investments</td>\n",
              "      <td>['Finance and Investments']</td>\n",
              "      <td>NaN</td>\n",
              "      <td>NaN</td>\n",
              "      <td>False</td>\n",
              "      <td>NaN</td>\n",
              "    </tr>\n",
              "    <tr>\n",
              "      <th>7</th>\n",
              "      <td>1999</td>\n",
              "      <td>7</td>\n",
              "      <td>NaN</td>\n",
              "      <td>1.0 B</td>\n",
              "      <td>Cutrale</td>\n",
              "      <td>Jose</td>\n",
              "      <td>Jose Luis Cutrale</td>\n",
              "      <td>1946-09-17</td>\n",
              "      <td>NaN</td>\n",
              "      <td>Male</td>\n",
              "      <td>Brazil</td>\n",
              "      <td>Brazil</td>\n",
              "      <td>Sao Paulo</td>\n",
              "      <td>Food and Beverage</td>\n",
              "      <td>['Food and Beverage']</td>\n",
              "      <td>NaN</td>\n",
              "      <td>NaN</td>\n",
              "      <td>True</td>\n",
              "      <td>NaN</td>\n",
              "    </tr>\n",
              "    <tr>\n",
              "      <th>8</th>\n",
              "      <td>1999</td>\n",
              "      <td>7</td>\n",
              "      <td>NaN</td>\n",
              "      <td>1.1 B</td>\n",
              "      <td>Lee</td>\n",
              "      <td>Peter</td>\n",
              "      <td>Lee family</td>\n",
              "      <td>NaN</td>\n",
              "      <td>71.0</td>\n",
              "      <td>Male</td>\n",
              "      <td>Hong Kong</td>\n",
              "      <td>Hong Kong</td>\n",
              "      <td>Hong Kong</td>\n",
              "      <td>NaN</td>\n",
              "      <td>NaN</td>\n",
              "      <td>NaN</td>\n",
              "      <td>NaN</td>\n",
              "      <td>False</td>\n",
              "      <td>NaN</td>\n",
              "    </tr>\n",
              "    <tr>\n",
              "      <th>9</th>\n",
              "      <td>1999</td>\n",
              "      <td>7</td>\n",
              "      <td>NaN</td>\n",
              "      <td>1.8 B</td>\n",
              "      <td>Kampf</td>\n",
              "      <td>Serge</td>\n",
              "      <td>Serge Kampf</td>\n",
              "      <td>1934-01-01</td>\n",
              "      <td>65.0</td>\n",
              "      <td>Male</td>\n",
              "      <td>France</td>\n",
              "      <td>NaN</td>\n",
              "      <td>NaN</td>\n",
              "      <td>NaN</td>\n",
              "      <td>NaN</td>\n",
              "      <td>NaN</td>\n",
              "      <td>NaN</td>\n",
              "      <td>False</td>\n",
              "      <td>NaN</td>\n",
              "    </tr>\n",
              "    <tr>\n",
              "      <th>10</th>\n",
              "      <td>1999</td>\n",
              "      <td>7</td>\n",
              "      <td>NaN</td>\n",
              "      <td>2.5 B</td>\n",
              "      <td>Safra</td>\n",
              "      <td>Edmond</td>\n",
              "      <td>Edmond Safra</td>\n",
              "      <td>1932-08-06</td>\n",
              "      <td>66.0</td>\n",
              "      <td>Male</td>\n",
              "      <td>Lebanon</td>\n",
              "      <td>NaN</td>\n",
              "      <td>NaN</td>\n",
              "      <td>NaN</td>\n",
              "      <td>NaN</td>\n",
              "      <td>NaN</td>\n",
              "      <td>NaN</td>\n",
              "      <td>True</td>\n",
              "      <td>NaN</td>\n",
              "    </tr>\n",
              "    <tr>\n",
              "      <th>11</th>\n",
              "      <td>2000</td>\n",
              "      <td>7</td>\n",
              "      <td>NaN</td>\n",
              "      <td>1.0 B</td>\n",
              "      <td>Cutrale</td>\n",
              "      <td>Jose</td>\n",
              "      <td>Jose Luis Cutrale</td>\n",
              "      <td>1946-09-17</td>\n",
              "      <td>NaN</td>\n",
              "      <td>Male</td>\n",
              "      <td>Brazil</td>\n",
              "      <td>Brazil</td>\n",
              "      <td>Sao Paulo</td>\n",
              "      <td>Food and Beverage</td>\n",
              "      <td>['Food and Beverage']</td>\n",
              "      <td>NaN</td>\n",
              "      <td>NaN</td>\n",
              "      <td>True</td>\n",
              "      <td>NaN</td>\n",
              "    </tr>\n",
              "    <tr>\n",
              "      <th>12</th>\n",
              "      <td>2000</td>\n",
              "      <td>7</td>\n",
              "      <td>NaN</td>\n",
              "      <td>1.9 B</td>\n",
              "      <td>Ebner</td>\n",
              "      <td>Martin</td>\n",
              "      <td>Martin Ebner</td>\n",
              "      <td>1945-08-01</td>\n",
              "      <td>54.0</td>\n",
              "      <td>Male</td>\n",
              "      <td>Switzerland</td>\n",
              "      <td>Switzerland</td>\n",
              "      <td>Wilen</td>\n",
              "      <td>Finance and Investments</td>\n",
              "      <td>['Finance and Investments']</td>\n",
              "      <td>NaN</td>\n",
              "      <td>NaN</td>\n",
              "      <td>False</td>\n",
              "      <td>NaN</td>\n",
              "    </tr>\n",
              "    <tr>\n",
              "      <th>13</th>\n",
              "      <td>2000</td>\n",
              "      <td>7</td>\n",
              "      <td>NaN</td>\n",
              "      <td>4.5 B</td>\n",
              "      <td>Henkel</td>\n",
              "      <td>NaN</td>\n",
              "      <td>Christoph Henkel</td>\n",
              "      <td>1958-02-11</td>\n",
              "      <td>NaN</td>\n",
              "      <td>NaN</td>\n",
              "      <td>Germany</td>\n",
              "      <td>United Kingdom</td>\n",
              "      <td>London</td>\n",
              "      <td>Fashion &amp; Retail</td>\n",
              "      <td>['Fashion &amp; Retail']</td>\n",
              "      <td>NaN</td>\n",
              "      <td>NaN</td>\n",
              "      <td>False</td>\n",
              "      <td>NaN</td>\n",
              "    </tr>\n",
              "    <tr>\n",
              "      <th>14</th>\n",
              "      <td>2000</td>\n",
              "      <td>7</td>\n",
              "      <td>NaN</td>\n",
              "      <td>2.9 B</td>\n",
              "      <td>Vik</td>\n",
              "      <td>Alexander</td>\n",
              "      <td>Alexander Vik</td>\n",
              "      <td>1955-02-19</td>\n",
              "      <td>45.0</td>\n",
              "      <td>Male</td>\n",
              "      <td>Norway</td>\n",
              "      <td>Monaco</td>\n",
              "      <td>Monaco</td>\n",
              "      <td>Finance and Investments</td>\n",
              "      <td>['Finance and Investments']</td>\n",
              "      <td>NaN</td>\n",
              "      <td>Investor</td>\n",
              "      <td>False</td>\n",
              "      <td>NaN</td>\n",
              "    </tr>\n",
              "  </tbody>\n",
              "</table>\n",
              "</div>\n",
              "    <div class=\"colab-df-buttons\">\n",
              "\n",
              "  <div class=\"colab-df-container\">\n",
              "    <button class=\"colab-df-convert\" onclick=\"convertToInteractive('df-926dbc30-ca9e-41db-9ecf-f4b6f99074a8')\"\n",
              "            title=\"Convert this dataframe to an interactive table.\"\n",
              "            style=\"display:none;\">\n",
              "\n",
              "  <svg xmlns=\"http://www.w3.org/2000/svg\" height=\"24px\" viewBox=\"0 -960 960 960\">\n",
              "    <path d=\"M120-120v-720h720v720H120Zm60-500h600v-160H180v160Zm220 220h160v-160H400v160Zm0 220h160v-160H400v160ZM180-400h160v-160H180v160Zm440 0h160v-160H620v160ZM180-180h160v-160H180v160Zm440 0h160v-160H620v160Z\"/>\n",
              "  </svg>\n",
              "    </button>\n",
              "\n",
              "  <style>\n",
              "    .colab-df-container {\n",
              "      display:flex;\n",
              "      gap: 12px;\n",
              "    }\n",
              "\n",
              "    .colab-df-convert {\n",
              "      background-color: #E8F0FE;\n",
              "      border: none;\n",
              "      border-radius: 50%;\n",
              "      cursor: pointer;\n",
              "      display: none;\n",
              "      fill: #1967D2;\n",
              "      height: 32px;\n",
              "      padding: 0 0 0 0;\n",
              "      width: 32px;\n",
              "    }\n",
              "\n",
              "    .colab-df-convert:hover {\n",
              "      background-color: #E2EBFA;\n",
              "      box-shadow: 0px 1px 2px rgba(60, 64, 67, 0.3), 0px 1px 3px 1px rgba(60, 64, 67, 0.15);\n",
              "      fill: #174EA6;\n",
              "    }\n",
              "\n",
              "    .colab-df-buttons div {\n",
              "      margin-bottom: 4px;\n",
              "    }\n",
              "\n",
              "    [theme=dark] .colab-df-convert {\n",
              "      background-color: #3B4455;\n",
              "      fill: #D2E3FC;\n",
              "    }\n",
              "\n",
              "    [theme=dark] .colab-df-convert:hover {\n",
              "      background-color: #434B5C;\n",
              "      box-shadow: 0px 1px 3px 1px rgba(0, 0, 0, 0.15);\n",
              "      filter: drop-shadow(0px 1px 2px rgba(0, 0, 0, 0.3));\n",
              "      fill: #FFFFFF;\n",
              "    }\n",
              "  </style>\n",
              "\n",
              "    <script>\n",
              "      const buttonEl =\n",
              "        document.querySelector('#df-926dbc30-ca9e-41db-9ecf-f4b6f99074a8 button.colab-df-convert');\n",
              "      buttonEl.style.display =\n",
              "        google.colab.kernel.accessAllowed ? 'block' : 'none';\n",
              "\n",
              "      async function convertToInteractive(key) {\n",
              "        const element = document.querySelector('#df-926dbc30-ca9e-41db-9ecf-f4b6f99074a8');\n",
              "        const dataTable =\n",
              "          await google.colab.kernel.invokeFunction('convertToInteractive',\n",
              "                                                    [key], {});\n",
              "        if (!dataTable) return;\n",
              "\n",
              "        const docLinkHtml = 'Like what you see? Visit the ' +\n",
              "          '<a target=\"_blank\" href=https://colab.research.google.com/notebooks/data_table.ipynb>data table notebook</a>'\n",
              "          + ' to learn more about interactive tables.';\n",
              "        element.innerHTML = '';\n",
              "        dataTable['output_type'] = 'display_data';\n",
              "        await google.colab.output.renderOutput(dataTable, element);\n",
              "        const docLink = document.createElement('div');\n",
              "        docLink.innerHTML = docLinkHtml;\n",
              "        element.appendChild(docLink);\n",
              "      }\n",
              "    </script>\n",
              "  </div>\n",
              "\n",
              "\n",
              "<div id=\"df-1c117b97-151c-4670-8963-8db00ccfe73e\">\n",
              "  <button class=\"colab-df-quickchart\" onclick=\"quickchart('df-1c117b97-151c-4670-8963-8db00ccfe73e')\"\n",
              "            title=\"Suggest charts\"\n",
              "            style=\"display:none;\">\n",
              "\n",
              "<svg xmlns=\"http://www.w3.org/2000/svg\" height=\"24px\"viewBox=\"0 0 24 24\"\n",
              "     width=\"24px\">\n",
              "    <g>\n",
              "        <path d=\"M19 3H5c-1.1 0-2 .9-2 2v14c0 1.1.9 2 2 2h14c1.1 0 2-.9 2-2V5c0-1.1-.9-2-2-2zM9 17H7v-7h2v7zm4 0h-2V7h2v10zm4 0h-2v-4h2v4z\"/>\n",
              "    </g>\n",
              "</svg>\n",
              "  </button>\n",
              "\n",
              "<style>\n",
              "  .colab-df-quickchart {\n",
              "      --bg-color: #E8F0FE;\n",
              "      --fill-color: #1967D2;\n",
              "      --hover-bg-color: #E2EBFA;\n",
              "      --hover-fill-color: #174EA6;\n",
              "      --disabled-fill-color: #AAA;\n",
              "      --disabled-bg-color: #DDD;\n",
              "  }\n",
              "\n",
              "  [theme=dark] .colab-df-quickchart {\n",
              "      --bg-color: #3B4455;\n",
              "      --fill-color: #D2E3FC;\n",
              "      --hover-bg-color: #434B5C;\n",
              "      --hover-fill-color: #FFFFFF;\n",
              "      --disabled-bg-color: #3B4455;\n",
              "      --disabled-fill-color: #666;\n",
              "  }\n",
              "\n",
              "  .colab-df-quickchart {\n",
              "    background-color: var(--bg-color);\n",
              "    border: none;\n",
              "    border-radius: 50%;\n",
              "    cursor: pointer;\n",
              "    display: none;\n",
              "    fill: var(--fill-color);\n",
              "    height: 32px;\n",
              "    padding: 0;\n",
              "    width: 32px;\n",
              "  }\n",
              "\n",
              "  .colab-df-quickchart:hover {\n",
              "    background-color: var(--hover-bg-color);\n",
              "    box-shadow: 0 1px 2px rgba(60, 64, 67, 0.3), 0 1px 3px 1px rgba(60, 64, 67, 0.15);\n",
              "    fill: var(--button-hover-fill-color);\n",
              "  }\n",
              "\n",
              "  .colab-df-quickchart-complete:disabled,\n",
              "  .colab-df-quickchart-complete:disabled:hover {\n",
              "    background-color: var(--disabled-bg-color);\n",
              "    fill: var(--disabled-fill-color);\n",
              "    box-shadow: none;\n",
              "  }\n",
              "\n",
              "  .colab-df-spinner {\n",
              "    border: 2px solid var(--fill-color);\n",
              "    border-color: transparent;\n",
              "    border-bottom-color: var(--fill-color);\n",
              "    animation:\n",
              "      spin 1s steps(1) infinite;\n",
              "  }\n",
              "\n",
              "  @keyframes spin {\n",
              "    0% {\n",
              "      border-color: transparent;\n",
              "      border-bottom-color: var(--fill-color);\n",
              "      border-left-color: var(--fill-color);\n",
              "    }\n",
              "    20% {\n",
              "      border-color: transparent;\n",
              "      border-left-color: var(--fill-color);\n",
              "      border-top-color: var(--fill-color);\n",
              "    }\n",
              "    30% {\n",
              "      border-color: transparent;\n",
              "      border-left-color: var(--fill-color);\n",
              "      border-top-color: var(--fill-color);\n",
              "      border-right-color: var(--fill-color);\n",
              "    }\n",
              "    40% {\n",
              "      border-color: transparent;\n",
              "      border-right-color: var(--fill-color);\n",
              "      border-top-color: var(--fill-color);\n",
              "    }\n",
              "    60% {\n",
              "      border-color: transparent;\n",
              "      border-right-color: var(--fill-color);\n",
              "    }\n",
              "    80% {\n",
              "      border-color: transparent;\n",
              "      border-right-color: var(--fill-color);\n",
              "      border-bottom-color: var(--fill-color);\n",
              "    }\n",
              "    90% {\n",
              "      border-color: transparent;\n",
              "      border-bottom-color: var(--fill-color);\n",
              "    }\n",
              "  }\n",
              "</style>\n",
              "\n",
              "  <script>\n",
              "    async function quickchart(key) {\n",
              "      const quickchartButtonEl =\n",
              "        document.querySelector('#' + key + ' button');\n",
              "      quickchartButtonEl.disabled = true;  // To prevent multiple clicks.\n",
              "      quickchartButtonEl.classList.add('colab-df-spinner');\n",
              "      try {\n",
              "        const charts = await google.colab.kernel.invokeFunction(\n",
              "            'suggestCharts', [key], {});\n",
              "      } catch (error) {\n",
              "        console.error('Error during call to suggestCharts:', error);\n",
              "      }\n",
              "      quickchartButtonEl.classList.remove('colab-df-spinner');\n",
              "      quickchartButtonEl.classList.add('colab-df-quickchart-complete');\n",
              "    }\n",
              "    (() => {\n",
              "      let quickchartButtonEl =\n",
              "        document.querySelector('#df-1c117b97-151c-4670-8963-8db00ccfe73e button');\n",
              "      quickchartButtonEl.style.display =\n",
              "        google.colab.kernel.accessAllowed ? 'block' : 'none';\n",
              "    })();\n",
              "  </script>\n",
              "</div>\n",
              "\n",
              "    </div>\n",
              "  </div>\n"
            ],
            "application/vnd.google.colaboratory.intrinsic+json": {
              "type": "dataframe",
              "variable_name": "dataset_billionaires",
              "summary": "{\n  \"name\": \"dataset_billionaires\",\n  \"rows\": 34511,\n  \"fields\": [\n    {\n      \"column\": \"year\",\n      \"properties\": {\n        \"dtype\": \"number\",\n        \"std\": 5,\n        \"min\": 1997,\n        \"max\": 2024,\n        \"num_unique_values\": 28,\n        \"samples\": [\n          2006,\n          2022,\n          2005\n        ],\n        \"semantic_type\": \"\",\n        \"description\": \"\"\n      }\n    },\n    {\n      \"column\": \"month\",\n      \"properties\": {\n        \"dtype\": \"number\",\n        \"std\": 0,\n        \"min\": 2,\n        \"max\": 7,\n        \"num_unique_values\": 5,\n        \"samples\": [\n          6,\n          4,\n          3\n        ],\n        \"semantic_type\": \"\",\n        \"description\": \"\"\n      }\n    },\n    {\n      \"column\": \"rank\",\n      \"properties\": {\n        \"dtype\": \"number\",\n        \"std\": 669.0225539666267,\n        \"min\": 0.0,\n        \"max\": 2692.0,\n        \"num_unique_values\": 874,\n        \"samples\": [\n          1729.0,\n          81.0,\n          459.0\n        ],\n        \"semantic_type\": \"\",\n        \"description\": \"\"\n      }\n    },\n    {\n      \"column\": \"net_worth\",\n      \"properties\": {\n        \"dtype\": \"category\",\n        \"num_unique_values\": 570,\n        \"samples\": [\n          \"47.3 B\",\n          \"2.6 B\",\n          \"8.9 B\"\n        ],\n        \"semantic_type\": \"\",\n        \"description\": \"\"\n      }\n    },\n    {\n      \"column\": \"last_name\",\n      \"properties\": {\n        \"dtype\": \"category\",\n        \"num_unique_values\": 2755,\n        \"samples\": [\n          \"Costica\",\n          \"VanderSloot\",\n          \"Bokarev\"\n        ],\n        \"semantic_type\": \"\",\n        \"description\": \"\"\n      }\n    },\n    {\n      \"column\": \"first_name\",\n      \"properties\": {\n        \"dtype\": \"category\",\n        \"num_unique_values\": 3066,\n        \"samples\": [\n          \"Changtian\",\n          \"Winnie\",\n          \"Matt & Dan\"\n        ],\n        \"semantic_type\": \"\",\n        \"description\": \"\"\n      }\n    },\n    {\n      \"column\": \"full_name\",\n      \"properties\": {\n        \"dtype\": \"category\",\n        \"num_unique_values\": 5301,\n        \"samples\": [\n          \"Kwek Leng Kee\",\n          \"Tung Ching Sai\",\n          \"Alan Zekelman\"\n        ],\n        \"semantic_type\": \"\",\n        \"description\": \"\"\n      }\n    },\n    {\n      \"column\": \"birth_date\",\n      \"properties\": {\n        \"dtype\": \"object\",\n        \"num_unique_values\": 3290,\n        \"samples\": [\n          \"1927-10-23\",\n          \"1954-03-07\",\n          \"1957-01-21\"\n        ],\n        \"semantic_type\": \"\",\n        \"description\": \"\"\n      }\n    },\n    {\n      \"column\": \"age\",\n      \"properties\": {\n        \"dtype\": \"number\",\n        \"std\": 14.137850703857971,\n        \"min\": 0.0,\n        \"max\": 102.0,\n        \"num_unique_values\": 86,\n        \"samples\": [\n          96.0,\n          73.0,\n          21.0\n        ],\n        \"semantic_type\": \"\",\n        \"description\": \"\"\n      }\n    },\n    {\n      \"column\": \"gender\",\n      \"properties\": {\n        \"dtype\": \"category\",\n        \"num_unique_values\": 2,\n        \"samples\": [\n          \"Female\",\n          \"Male\"\n        ],\n        \"semantic_type\": \"\",\n        \"description\": \"\"\n      }\n    },\n    {\n      \"column\": \"country_of_citizenship\",\n      \"properties\": {\n        \"dtype\": \"category\",\n        \"num_unique_values\": 90,\n        \"samples\": [\n          \"Netherlands\",\n          \"Canada\"\n        ],\n        \"semantic_type\": \"\",\n        \"description\": \"\"\n      }\n    },\n    {\n      \"column\": \"country_of_residence\",\n      \"properties\": {\n        \"dtype\": \"category\",\n        \"num_unique_values\": 94,\n        \"samples\": [\n          \"Egypt\",\n          \"South Africa\"\n        ],\n        \"semantic_type\": \"\",\n        \"description\": \"\"\n      }\n    },\n    {\n      \"column\": \"city_of_residence\",\n      \"properties\": {\n        \"dtype\": \"category\",\n        \"num_unique_values\": 1186,\n        \"samples\": [\n          \"Chatham\",\n          \"Marina Del Ray\"\n        ],\n        \"semantic_type\": \"\",\n        \"description\": \"\"\n      }\n    },\n    {\n      \"column\": \"business_category\",\n      \"properties\": {\n        \"dtype\": \"category\",\n        \"num_unique_values\": 41,\n        \"samples\": [\n          \"Gaming\",\n          \"Retail\"\n        ],\n        \"semantic_type\": \"\",\n        \"description\": \"\"\n      }\n    },\n    {\n      \"column\": \"business_industries\",\n      \"properties\": {\n        \"dtype\": \"category\",\n        \"num_unique_values\": 67,\n        \"samples\": [\n          \"['Chemicals']\",\n          \"['Beverages']\"\n        ],\n        \"semantic_type\": \"\",\n        \"description\": \"\"\n      }\n    },\n    {\n      \"column\": \"organization_name\",\n      \"properties\": {\n        \"dtype\": \"category\",\n        \"num_unique_values\": 583,\n        \"samples\": [\n          \"Tanium\",\n          \"Netflix\"\n        ],\n        \"semantic_type\": \"\",\n        \"description\": \"\"\n      }\n    },\n    {\n      \"column\": \"position_in_organization\",\n      \"properties\": {\n        \"dtype\": \"category\",\n        \"num_unique_values\": 178,\n        \"samples\": [\n          \"Co-Chair and Co-CEO\",\n          \"Co-founder, ex chairman of the board\"\n        ],\n        \"semantic_type\": \"\",\n        \"description\": \"\"\n      }\n    },\n    {\n      \"column\": \"self_made\",\n      \"properties\": {\n        \"dtype\": \"category\",\n        \"num_unique_values\": 2,\n        \"samples\": [\n          true,\n          false\n        ],\n        \"semantic_type\": \"\",\n        \"description\": \"\"\n      }\n    },\n    {\n      \"column\": \"wealth_status\",\n      \"properties\": {\n        \"dtype\": \"category\",\n        \"num_unique_values\": 4,\n        \"samples\": [\n          \"Increased\",\n          \"Returned to List\"\n        ],\n        \"semantic_type\": \"\",\n        \"description\": \"\"\n      }\n    }\n  ]\n}"
            }
          },
          "metadata": {},
          "execution_count": 6
        }
      ],
      "source": [
        "# importar dados do arquivo csv\n",
        "dataset_billionaires = pd.read_csv(\"all_billionaires_1997_2024.csv\", encoding='ISO-8859-1', sep =',')\n",
        "\n",
        "#visualizar as primeiras linhas\n",
        "dataset_billionaires.head(15)"
      ]
    },
    {
      "cell_type": "code",
      "execution_count": null,
      "metadata": {
        "colab": {
          "base_uri": "https://localhost:8080/"
        },
        "id": "JqjvVVP2fWBO",
        "outputId": "f65ac411-b840-46ab-9ffc-3cd8a473557c"
      },
      "outputs": [
        {
          "data": {
            "text/plain": [
              "(34511, 19)"
            ]
          },
          "execution_count": 8,
          "metadata": {},
          "output_type": "execute_result"
        }
      ],
      "source": [
        "dataset_billionaires.shape"
      ]
    },
    {
      "cell_type": "markdown",
      "metadata": {
        "id": "6CV4-6bzqhVw"
      },
      "source": [
        "# Resumo conciso do dataframe"
      ]
    },
    {
      "cell_type": "code",
      "execution_count": null,
      "metadata": {
        "colab": {
          "base_uri": "https://localhost:8080/"
        },
        "id": "do8Xh43r6AVW",
        "outputId": "bb7ad7bf-ddfc-478b-834c-25e1303a00af"
      },
      "outputs": [
        {
          "data": {
            "text/plain": [
              "Index(['year', 'month', 'rank', 'net_worth', 'last_name', 'first_name',\n",
              "       'full_name', 'birth_date', 'age', 'gender', 'country_of_citizenship',\n",
              "       'country_of_residence', 'city_of_residence', 'business_category',\n",
              "       'business_industries', 'organization_name', 'position_in_organization',\n",
              "       'self_made', 'wealth_status'],\n",
              "      dtype='object')"
            ]
          },
          "execution_count": 27,
          "metadata": {},
          "output_type": "execute_result"
        }
      ],
      "source": [
        "dataset_billionaires.columns"
      ]
    },
    {
      "cell_type": "code",
      "execution_count": null,
      "metadata": {
        "colab": {
          "base_uri": "https://localhost:8080/"
        },
        "id": "KEPdY7zxfaND",
        "outputId": "9dad50b5-92b2-4662-988c-0ea143cc3631"
      },
      "outputs": [
        {
          "name": "stdout",
          "output_type": "stream",
          "text": [
            "<class 'pandas.core.frame.DataFrame'>\n",
            "RangeIndex: 34511 entries, 0 to 34510\n",
            "Data columns (total 19 columns):\n",
            " #   Column                    Non-Null Count  Dtype  \n",
            "---  ------                    --------------  -----  \n",
            " 0   year                      34511 non-null  int64  \n",
            " 1   month                     34511 non-null  int64  \n",
            " 2   rank                      34493 non-null  float64\n",
            " 3   net_worth                 0 non-null      float64\n",
            " 4   last_name                 30822 non-null  object \n",
            " 5   first_name                30760 non-null  object \n",
            " 6   full_name                 34511 non-null  object \n",
            " 7   birth_date                30044 non-null  object \n",
            " 8   age                       33765 non-null  float64\n",
            " 9   gender                    30682 non-null  object \n",
            " 10  country_of_citizenship    34502 non-null  object \n",
            " 11  country_of_residence      33792 non-null  object \n",
            " 12  city_of_residence         33514 non-null  object \n",
            " 13  business_category         28669 non-null  object \n",
            " 14  business_industries       33521 non-null  object \n",
            " 15  organization_name         4718 non-null   object \n",
            " 16  position_in_organization  5044 non-null   object \n",
            " 17  self_made                 30822 non-null  object \n",
            " 18  wealth_status             27095 non-null  object \n",
            "dtypes: float64(3), int64(2), object(14)\n",
            "memory usage: 5.0+ MB\n"
          ]
        }
      ],
      "source": [
        "dataset_billionaires.info()"
      ]
    },
    {
      "cell_type": "markdown",
      "source": [
        "###Dicionário de variáveis\n",
        "\n",
        "\n",
        "*  **year**: Ano de publicação da lista.\n",
        "* **mont:** Mês de publicação.\n",
        "* **rank:** Posição na lista.\n",
        "* **net_worth:** Patrimônio líquido em bilhões de USD.\n",
        "* **last_name:** Sobrenome do bilionário.\n",
        "* **first_name:** Primeiro nome do bilionário.\n",
        "* **full_name:** Nome completo do bilionário.\n",
        "* **birth_date:** Data de nascimento.\n",
        "* **age:** Idade.\n",
        "* **gender:** Gênero.\n",
        "* **country_of_citizenship:** País de cidadania.\n",
        "* **country_of_residence:** País de residência.\n",
        "* **city_of_residence:** Cidade de residência.\n",
        "* **business_category:** Categoria de negócios.\n",
        "* **business_industries:** Indústrias de negócios.\n",
        "* **organization_name:** Nome da organização.\n",
        "* **position_in_organization:** Posição na organização.\n",
        "* **self_made:** Indicador de riqueza própria.\n",
        "* **wealth_status:** Status da riqueza\n",
        "\n"
      ],
      "metadata": {
        "id": "KgR1Jh6Lbsq8"
      }
    },
    {
      "cell_type": "markdown",
      "metadata": {
        "id": "DnMCHVK5q0Fl"
      },
      "source": [
        "# Verificar os tipos de dados de cada coluna"
      ]
    },
    {
      "cell_type": "code",
      "execution_count": null,
      "metadata": {
        "id": "A8gChMkAfa9Y"
      },
      "outputs": [],
      "source": [
        "tipos_de_dados = dataset_billionaires.dtypes"
      ]
    },
    {
      "cell_type": "markdown",
      "metadata": {
        "id": "hMhnQR8zqv7J"
      },
      "source": [
        "### Identificar as variáveis categóricas"
      ]
    },
    {
      "cell_type": "code",
      "execution_count": null,
      "metadata": {
        "colab": {
          "base_uri": "https://localhost:8080/"
        },
        "id": "TGUfD8difhAn",
        "outputId": "b14cbe07-87a9-42ca-adb4-bc397cbecbfa"
      },
      "outputs": [
        {
          "name": "stdout",
          "output_type": "stream",
          "text": [
            "Variáveis categóricas:\n",
            "\n",
            "['net_worth', 'last_name', 'first_name', 'full_name', 'birth_date', 'gender', 'country_of_citizenship', 'country_of_residence', 'city_of_residence', 'business_category', 'business_industries', 'organization_name', 'position_in_organization', 'self_made', 'wealth_status']\n"
          ]
        }
      ],
      "source": [
        "variaveis_categoricas = tipos_de_dados[tipos_de_dados == 'object'].index.tolist()\n",
        "\n",
        "# Exibir as variáveis categóricas\n",
        "print(\"Variáveis categóricas:\\n\")\n",
        "print(variaveis_categoricas)"
      ]
    },
    {
      "cell_type": "markdown",
      "metadata": {
        "id": "eH1DEXPwrDVz"
      },
      "source": [
        "###Visualizar alguns resultados estatísticos como percentil, média, padrão, etc."
      ]
    },
    {
      "cell_type": "code",
      "execution_count": null,
      "metadata": {
        "colab": {
          "base_uri": "https://localhost:8080/"
        },
        "id": "7zbzGXQ3fkvQ",
        "outputId": "fbeeaedd-6a08-48bb-da1c-84067f6a51f8"
      },
      "outputs": [
        {
          "name": "stdout",
          "output_type": "stream",
          "text": [
            "Variáveis numéricas:\n",
            "\n",
            "               year         month          rank           age\n",
            "count  34303.000000  34303.000000  34285.000000  33557.000000\n",
            "mean    2016.475585      3.416582    944.030538     63.456537\n",
            "std        5.827845      0.602094    669.240744     13.278233\n",
            "min     1997.000000      2.000000      0.000000     18.000000\n",
            "25%     2013.000000      3.000000    383.000000     54.000000\n",
            "50%     2018.000000      3.000000    818.000000     63.000000\n",
            "75%     2021.000000      4.000000   1415.000000     73.000000\n",
            "max     2024.000000      7.000000   2692.000000    102.000000\n"
          ]
        }
      ],
      "source": [
        "descritivas_numericas = dataset_billionaires.describe()\n",
        "print(\"Variáveis numéricas:\\n\")\n",
        "print(descritivas_numericas)"
      ]
    },
    {
      "cell_type": "markdown",
      "metadata": {
        "id": "LJ26Id4WrM9F"
      },
      "source": [
        "# Quantidade de valores únicos em cada uma das colunas"
      ]
    },
    {
      "cell_type": "code",
      "execution_count": null,
      "metadata": {
        "colab": {
          "base_uri": "https://localhost:8080/"
        },
        "id": "51N9k68B9C2D",
        "outputId": "cde1efa3-11d0-4073-b23e-421074534f5f"
      },
      "outputs": [
        {
          "data": {
            "text/plain": [
              "year                          28\n",
              "month                          5\n",
              "rank                         874\n",
              "net_worth                    570\n",
              "last_name                   2755\n",
              "first_name                  3066\n",
              "full_name                   5301\n",
              "birth_date                  3290\n",
              "age                           86\n",
              "gender                         2\n",
              "country_of_citizenship        90\n",
              "country_of_residence          94\n",
              "city_of_residence           1186\n",
              "business_category             41\n",
              "business_industries           67\n",
              "organization_name            583\n",
              "position_in_organization     178\n",
              "self_made                      2\n",
              "wealth_status                  4\n",
              "dtype: int64"
            ]
          },
          "execution_count": 76,
          "metadata": {},
          "output_type": "execute_result"
        }
      ],
      "source": [
        "dataset_billionaires.nunique()"
      ]
    },
    {
      "cell_type": "markdown",
      "metadata": {
        "id": "oUE67OvNrTEc"
      },
      "source": [
        "# Número de valores nulos (faltantes) em cada coluna."
      ]
    },
    {
      "cell_type": "code",
      "execution_count": null,
      "metadata": {
        "colab": {
          "base_uri": "https://localhost:8080/"
        },
        "id": "IDSxRLOMSR3C",
        "outputId": "62d78c4f-50d9-4739-da20-8e12dd41e35e"
      },
      "outputs": [
        {
          "data": {
            "text/plain": [
              "year                            0\n",
              "month                           0\n",
              "rank                           18\n",
              "net_worth                       0\n",
              "last_name                    3551\n",
              "first_name                   3612\n",
              "full_name                       0\n",
              "birth_date                   4275\n",
              "age                           746\n",
              "gender                       3688\n",
              "country_of_citizenship          9\n",
              "country_of_residence          696\n",
              "city_of_residence             956\n",
              "business_category            5634\n",
              "business_industries           964\n",
              "organization_name           29585\n",
              "position_in_organization    29259\n",
              "self_made                    3551\n",
              "wealth_status                7255\n",
              "dtype: int64"
            ]
          },
          "execution_count": 20,
          "metadata": {},
          "output_type": "execute_result"
        }
      ],
      "source": [
        "dataset_billionaires.isnull().sum()"
      ]
    },
    {
      "cell_type": "markdown",
      "metadata": {
        "id": "HptXWGanvYAu"
      },
      "source": [
        "### Verificar a proporção(%) de valores nulos em cada coluna"
      ]
    },
    {
      "cell_type": "code",
      "execution_count": null,
      "metadata": {
        "colab": {
          "base_uri": "https://localhost:8080/"
        },
        "id": "6OZ7r6AOUjoT",
        "outputId": "7c31240a-53bc-4084-9842-552444186306"
      },
      "outputs": [
        {
          "name": "stdout",
          "output_type": "stream",
          "text": [
            "year                         0.000000\n",
            "month                        0.000000\n",
            "rank                         0.052474\n",
            "net_worth                    0.000000\n",
            "last_name                   10.351864\n",
            "first_name                  10.529691\n",
            "full_name                    0.000000\n",
            "birth_date                  12.462467\n",
            "age                          2.174737\n",
            "gender                      10.751246\n",
            "country_of_citizenship       0.026237\n",
            "country_of_residence         2.028977\n",
            "city_of_residence            2.786928\n",
            "business_category           16.424219\n",
            "business_industries          2.810250\n",
            "organization_name           86.246101\n",
            "position_in_organization    85.295747\n",
            "self_made                   10.351864\n",
            "wealth_status               21.149754\n",
            "dtype: float64\n"
          ]
        }
      ],
      "source": [
        "null_percentage = dataset_billionaires.isnull().mean() * 100\n",
        "print(null_percentage)"
      ]
    },
    {
      "cell_type": "markdown",
      "metadata": {
        "id": "v_Vr8wBXwYEI"
      },
      "source": [
        "# Calcular a idade com base na data de nascimento"
      ]
    },
    {
      "cell_type": "code",
      "execution_count": null,
      "metadata": {
        "colab": {
          "base_uri": "https://localhost:8080/"
        },
        "id": "keQZOh46wJCX",
        "outputId": "fe9de5e4-e984-4599-a5a8-6d04a8505d78"
      },
      "outputs": [
        {
          "data": {
            "application/vnd.google.colaboratory.intrinsic+json": {
              "summary": "{\n  \"name\": \"dataset_billionaires\",\n  \"rows\": 34303,\n  \"fields\": [\n    {\n      \"column\": \"year\",\n      \"properties\": {\n        \"dtype\": \"number\",\n        \"std\": 5,\n        \"min\": 1997,\n        \"max\": 2024,\n        \"num_unique_values\": 28,\n        \"samples\": [\n          2006,\n          2022,\n          2005\n        ],\n        \"semantic_type\": \"\",\n        \"description\": \"\"\n      }\n    },\n    {\n      \"column\": \"month\",\n      \"properties\": {\n        \"dtype\": \"number\",\n        \"std\": 0,\n        \"min\": 2,\n        \"max\": 7,\n        \"num_unique_values\": 5,\n        \"samples\": [\n          6,\n          4,\n          3\n        ],\n        \"semantic_type\": \"\",\n        \"description\": \"\"\n      }\n    },\n    {\n      \"column\": \"rank\",\n      \"properties\": {\n        \"dtype\": \"number\",\n        \"std\": 669.2407441125258,\n        \"min\": 0.0,\n        \"max\": 2692.0,\n        \"num_unique_values\": 874,\n        \"samples\": [\n          1729.0,\n          105.0,\n          540.0\n        ],\n        \"semantic_type\": \"\",\n        \"description\": \"\"\n      }\n    },\n    {\n      \"column\": \"net_worth\",\n      \"properties\": {\n        \"dtype\": \"category\",\n        \"num_unique_values\": 570,\n        \"samples\": [\n          \"47.3 B\",\n          \"2.3 B\",\n          \"8.5 B\"\n        ],\n        \"semantic_type\": \"\",\n        \"description\": \"\"\n      }\n    },\n    {\n      \"column\": \"last_name\",\n      \"properties\": {\n        \"dtype\": \"category\",\n        \"num_unique_values\": 2754,\n        \"samples\": [\n          \"Costica\",\n          \"Zuo\",\n          \"Halvorsen\"\n        ],\n        \"semantic_type\": \"\",\n        \"description\": \"\"\n      }\n    },\n    {\n      \"column\": \"first_name\",\n      \"properties\": {\n        \"dtype\": \"category\",\n        \"num_unique_values\": 3062,\n        \"samples\": [\n          \"Simo\",\n          \"Winnie\",\n          \"Xiaomeng\"\n        ],\n        \"semantic_type\": \"\",\n        \"description\": \"\"\n      }\n    },\n    {\n      \"column\": \"full_name\",\n      \"properties\": {\n        \"dtype\": \"category\",\n        \"num_unique_values\": 5275,\n        \"samples\": [\n          \"Lee family\",\n          \"Dmitry Pumpyansky\",\n          \"Jim Simons\"\n        ],\n        \"semantic_type\": \"\",\n        \"description\": \"\"\n      }\n    },\n    {\n      \"column\": \"birth_date\",\n      \"properties\": {\n        \"dtype\": \"object\",\n        \"num_unique_values\": 3290,\n        \"samples\": [\n          \"1927-10-23\",\n          \"1954-03-07\",\n          \"1957-01-21\"\n        ],\n        \"semantic_type\": \"\",\n        \"description\": \"\"\n      }\n    },\n    {\n      \"column\": \"age\",\n      \"properties\": {\n        \"dtype\": \"number\",\n        \"std\": 13.27823313196947,\n        \"min\": 18.0,\n        \"max\": 102.0,\n        \"num_unique_values\": 85,\n        \"samples\": [\n          97.0,\n          73.0,\n          89.0\n        ],\n        \"semantic_type\": \"\",\n        \"description\": \"\"\n      }\n    },\n    {\n      \"column\": \"gender\",\n      \"properties\": {\n        \"dtype\": \"category\",\n        \"num_unique_values\": 2,\n        \"samples\": [\n          \"Female\",\n          \"Male\"\n        ],\n        \"semantic_type\": \"\",\n        \"description\": \"\"\n      }\n    },\n    {\n      \"column\": \"country_of_citizenship\",\n      \"properties\": {\n        \"dtype\": \"category\",\n        \"num_unique_values\": 90,\n        \"samples\": [\n          \"Netherlands\",\n          \"Canada\"\n        ],\n        \"semantic_type\": \"\",\n        \"description\": \"\"\n      }\n    },\n    {\n      \"column\": \"country_of_residence\",\n      \"properties\": {\n        \"dtype\": \"category\",\n        \"num_unique_values\": 94,\n        \"samples\": [\n          \"Egypt\",\n          \"South Africa\"\n        ],\n        \"semantic_type\": \"\",\n        \"description\": \"\"\n      }\n    },\n    {\n      \"column\": \"city_of_residence\",\n      \"properties\": {\n        \"dtype\": \"category\",\n        \"num_unique_values\": 1183,\n        \"samples\": [\n          \"Bougy-Villars\",\n          \"Roquebrune-Cap-Martin\"\n        ],\n        \"semantic_type\": \"\",\n        \"description\": \"\"\n      }\n    },\n    {\n      \"column\": \"business_category\",\n      \"properties\": {\n        \"dtype\": \"category\",\n        \"num_unique_values\": 41,\n        \"samples\": [\n          \"Gaming\",\n          \"Retail\"\n        ],\n        \"semantic_type\": \"\",\n        \"description\": \"\"\n      }\n    },\n    {\n      \"column\": \"business_industries\",\n      \"properties\": {\n        \"dtype\": \"category\",\n        \"num_unique_values\": 67,\n        \"samples\": [\n          \"['Chemicals']\",\n          \"['Beverages']\"\n        ],\n        \"semantic_type\": \"\",\n        \"description\": \"\"\n      }\n    },\n    {\n      \"column\": \"organization_name\",\n      \"properties\": {\n        \"dtype\": \"category\",\n        \"num_unique_values\": 583,\n        \"samples\": [\n          \"Tanium\",\n          \"Netflix\"\n        ],\n        \"semantic_type\": \"\",\n        \"description\": \"\"\n      }\n    },\n    {\n      \"column\": \"position_in_organization\",\n      \"properties\": {\n        \"dtype\": \"category\",\n        \"num_unique_values\": 178,\n        \"samples\": [\n          \"Co-Chair and Co-CEO\",\n          \"Co-founder, ex chairman of the board\"\n        ],\n        \"semantic_type\": \"\",\n        \"description\": \"\"\n      }\n    },\n    {\n      \"column\": \"self_made\",\n      \"properties\": {\n        \"dtype\": \"category\",\n        \"num_unique_values\": 2,\n        \"samples\": [\n          true,\n          false\n        ],\n        \"semantic_type\": \"\",\n        \"description\": \"\"\n      }\n    },\n    {\n      \"column\": \"wealth_status\",\n      \"properties\": {\n        \"dtype\": \"category\",\n        \"num_unique_values\": 4,\n        \"samples\": [\n          \"Increased\",\n          \"Returned to List\"\n        ],\n        \"semantic_type\": \"\",\n        \"description\": \"\"\n      }\n    }\n  ]\n}",
              "type": "dataframe",
              "variable_name": "dataset_billionaires"
            },
            "text/html": [
              "\n",
              "  <div id=\"df-fdd37df8-a8de-4dcf-a34f-d31d65f9608f\" class=\"colab-df-container\">\n",
              "    <div>\n",
              "<style scoped>\n",
              "    .dataframe tbody tr th:only-of-type {\n",
              "        vertical-align: middle;\n",
              "    }\n",
              "\n",
              "    .dataframe tbody tr th {\n",
              "        vertical-align: top;\n",
              "    }\n",
              "\n",
              "    .dataframe thead th {\n",
              "        text-align: right;\n",
              "    }\n",
              "</style>\n",
              "<table border=\"1\" class=\"dataframe\">\n",
              "  <thead>\n",
              "    <tr style=\"text-align: right;\">\n",
              "      <th></th>\n",
              "      <th>year</th>\n",
              "      <th>month</th>\n",
              "      <th>rank</th>\n",
              "      <th>net_worth</th>\n",
              "      <th>last_name</th>\n",
              "      <th>first_name</th>\n",
              "      <th>full_name</th>\n",
              "      <th>birth_date</th>\n",
              "      <th>age</th>\n",
              "      <th>gender</th>\n",
              "      <th>country_of_citizenship</th>\n",
              "      <th>country_of_residence</th>\n",
              "      <th>city_of_residence</th>\n",
              "      <th>business_category</th>\n",
              "      <th>business_industries</th>\n",
              "      <th>organization_name</th>\n",
              "      <th>position_in_organization</th>\n",
              "      <th>self_made</th>\n",
              "      <th>wealth_status</th>\n",
              "    </tr>\n",
              "  </thead>\n",
              "  <tbody>\n",
              "    <tr>\n",
              "      <th>0</th>\n",
              "      <td>1997</td>\n",
              "      <td>7</td>\n",
              "      <td>NaN</td>\n",
              "      <td>2.0 B</td>\n",
              "      <td>Sophonpanich</td>\n",
              "      <td>Chatri</td>\n",
              "      <td>Chatri Sophonpanich &amp; family</td>\n",
              "      <td>1934-02-28</td>\n",
              "      <td>73.0</td>\n",
              "      <td>Male</td>\n",
              "      <td>Thailand</td>\n",
              "      <td>Thailand</td>\n",
              "      <td>Bangkok</td>\n",
              "      <td>Finance and Investments</td>\n",
              "      <td>['Finance and Investments']</td>\n",
              "      <td>NaN</td>\n",
              "      <td>NaN</td>\n",
              "      <td>False</td>\n",
              "      <td>NaN</td>\n",
              "    </tr>\n",
              "    <tr>\n",
              "      <th>1</th>\n",
              "      <td>1997</td>\n",
              "      <td>7</td>\n",
              "      <td>NaN</td>\n",
              "      <td>1.8 B</td>\n",
              "      <td>Adulyadej</td>\n",
              "      <td>King Bhumibol</td>\n",
              "      <td>King Bhumibol Adulyadej</td>\n",
              "      <td>1927-12-05</td>\n",
              "      <td>69.0</td>\n",
              "      <td>Male</td>\n",
              "      <td>Thailand</td>\n",
              "      <td>NaN</td>\n",
              "      <td>NaN</td>\n",
              "      <td>NaN</td>\n",
              "      <td>NaN</td>\n",
              "      <td>NaN</td>\n",
              "      <td>NaN</td>\n",
              "      <td>False</td>\n",
              "      <td>NaN</td>\n",
              "    </tr>\n",
              "    <tr>\n",
              "      <th>2</th>\n",
              "      <td>1998</td>\n",
              "      <td>7</td>\n",
              "      <td>NaN</td>\n",
              "      <td>3.3 B</td>\n",
              "      <td>Safra</td>\n",
              "      <td>Edmond</td>\n",
              "      <td>Edmond Safra</td>\n",
              "      <td>1932-08-06</td>\n",
              "      <td>65.0</td>\n",
              "      <td>Male</td>\n",
              "      <td>Lebanon</td>\n",
              "      <td>Lebanon</td>\n",
              "      <td>NaN</td>\n",
              "      <td>NaN</td>\n",
              "      <td>NaN</td>\n",
              "      <td>NaN</td>\n",
              "      <td>NaN</td>\n",
              "      <td>True</td>\n",
              "      <td>NaN</td>\n",
              "    </tr>\n",
              "    <tr>\n",
              "      <th>3</th>\n",
              "      <td>1999</td>\n",
              "      <td>7</td>\n",
              "      <td>NaN</td>\n",
              "      <td>1.0 B</td>\n",
              "      <td>Hinduja</td>\n",
              "      <td>Srichand, Gopichand,</td>\n",
              "      <td>Srichand &amp; Gopichand Hinduja</td>\n",
              "      <td>1935-11-28</td>\n",
              "      <td>NaN</td>\n",
              "      <td>NaN</td>\n",
              "      <td>India</td>\n",
              "      <td>United Kingdom</td>\n",
              "      <td>London</td>\n",
              "      <td>NaN</td>\n",
              "      <td>NaN</td>\n",
              "      <td>NaN</td>\n",
              "      <td>NaN</td>\n",
              "      <td>False</td>\n",
              "      <td>NaN</td>\n",
              "    </tr>\n",
              "    <tr>\n",
              "      <th>4</th>\n",
              "      <td>1999</td>\n",
              "      <td>7</td>\n",
              "      <td>NaN</td>\n",
              "      <td>7.1 B</td>\n",
              "      <td>Schwarz</td>\n",
              "      <td>Dieter</td>\n",
              "      <td>Dieter Schwarz</td>\n",
              "      <td>1939-09-24</td>\n",
              "      <td>59.0</td>\n",
              "      <td>Male</td>\n",
              "      <td>Germany</td>\n",
              "      <td>Germany</td>\n",
              "      <td>Neckarsulm</td>\n",
              "      <td>Fashion &amp; Retail</td>\n",
              "      <td>['Fashion &amp; Retail']</td>\n",
              "      <td>NaN</td>\n",
              "      <td>NaN</td>\n",
              "      <td>True</td>\n",
              "      <td>NaN</td>\n",
              "    </tr>\n",
              "  </tbody>\n",
              "</table>\n",
              "</div>\n",
              "    <div class=\"colab-df-buttons\">\n",
              "\n",
              "  <div class=\"colab-df-container\">\n",
              "    <button class=\"colab-df-convert\" onclick=\"convertToInteractive('df-fdd37df8-a8de-4dcf-a34f-d31d65f9608f')\"\n",
              "            title=\"Convert this dataframe to an interactive table.\"\n",
              "            style=\"display:none;\">\n",
              "\n",
              "  <svg xmlns=\"http://www.w3.org/2000/svg\" height=\"24px\" viewBox=\"0 -960 960 960\">\n",
              "    <path d=\"M120-120v-720h720v720H120Zm60-500h600v-160H180v160Zm220 220h160v-160H400v160Zm0 220h160v-160H400v160ZM180-400h160v-160H180v160Zm440 0h160v-160H620v160ZM180-180h160v-160H180v160Zm440 0h160v-160H620v160Z\"/>\n",
              "  </svg>\n",
              "    </button>\n",
              "\n",
              "  <style>\n",
              "    .colab-df-container {\n",
              "      display:flex;\n",
              "      gap: 12px;\n",
              "    }\n",
              "\n",
              "    .colab-df-convert {\n",
              "      background-color: #E8F0FE;\n",
              "      border: none;\n",
              "      border-radius: 50%;\n",
              "      cursor: pointer;\n",
              "      display: none;\n",
              "      fill: #1967D2;\n",
              "      height: 32px;\n",
              "      padding: 0 0 0 0;\n",
              "      width: 32px;\n",
              "    }\n",
              "\n",
              "    .colab-df-convert:hover {\n",
              "      background-color: #E2EBFA;\n",
              "      box-shadow: 0px 1px 2px rgba(60, 64, 67, 0.3), 0px 1px 3px 1px rgba(60, 64, 67, 0.15);\n",
              "      fill: #174EA6;\n",
              "    }\n",
              "\n",
              "    .colab-df-buttons div {\n",
              "      margin-bottom: 4px;\n",
              "    }\n",
              "\n",
              "    [theme=dark] .colab-df-convert {\n",
              "      background-color: #3B4455;\n",
              "      fill: #D2E3FC;\n",
              "    }\n",
              "\n",
              "    [theme=dark] .colab-df-convert:hover {\n",
              "      background-color: #434B5C;\n",
              "      box-shadow: 0px 1px 3px 1px rgba(0, 0, 0, 0.15);\n",
              "      filter: drop-shadow(0px 1px 2px rgba(0, 0, 0, 0.3));\n",
              "      fill: #FFFFFF;\n",
              "    }\n",
              "  </style>\n",
              "\n",
              "    <script>\n",
              "      const buttonEl =\n",
              "        document.querySelector('#df-fdd37df8-a8de-4dcf-a34f-d31d65f9608f button.colab-df-convert');\n",
              "      buttonEl.style.display =\n",
              "        google.colab.kernel.accessAllowed ? 'block' : 'none';\n",
              "\n",
              "      async function convertToInteractive(key) {\n",
              "        const element = document.querySelector('#df-fdd37df8-a8de-4dcf-a34f-d31d65f9608f');\n",
              "        const dataTable =\n",
              "          await google.colab.kernel.invokeFunction('convertToInteractive',\n",
              "                                                    [key], {});\n",
              "        if (!dataTable) return;\n",
              "\n",
              "        const docLinkHtml = 'Like what you see? Visit the ' +\n",
              "          '<a target=\"_blank\" href=https://colab.research.google.com/notebooks/data_table.ipynb>data table notebook</a>'\n",
              "          + ' to learn more about interactive tables.';\n",
              "        element.innerHTML = '';\n",
              "        dataTable['output_type'] = 'display_data';\n",
              "        await google.colab.output.renderOutput(dataTable, element);\n",
              "        const docLink = document.createElement('div');\n",
              "        docLink.innerHTML = docLinkHtml;\n",
              "        element.appendChild(docLink);\n",
              "      }\n",
              "    </script>\n",
              "  </div>\n",
              "\n",
              "\n",
              "<div id=\"df-47440c46-ec09-49e7-a9bc-d6e0a0d0cd32\">\n",
              "  <button class=\"colab-df-quickchart\" onclick=\"quickchart('df-47440c46-ec09-49e7-a9bc-d6e0a0d0cd32')\"\n",
              "            title=\"Suggest charts\"\n",
              "            style=\"display:none;\">\n",
              "\n",
              "<svg xmlns=\"http://www.w3.org/2000/svg\" height=\"24px\"viewBox=\"0 0 24 24\"\n",
              "     width=\"24px\">\n",
              "    <g>\n",
              "        <path d=\"M19 3H5c-1.1 0-2 .9-2 2v14c0 1.1.9 2 2 2h14c1.1 0 2-.9 2-2V5c0-1.1-.9-2-2-2zM9 17H7v-7h2v7zm4 0h-2V7h2v10zm4 0h-2v-4h2v4z\"/>\n",
              "    </g>\n",
              "</svg>\n",
              "  </button>\n",
              "\n",
              "<style>\n",
              "  .colab-df-quickchart {\n",
              "      --bg-color: #E8F0FE;\n",
              "      --fill-color: #1967D2;\n",
              "      --hover-bg-color: #E2EBFA;\n",
              "      --hover-fill-color: #174EA6;\n",
              "      --disabled-fill-color: #AAA;\n",
              "      --disabled-bg-color: #DDD;\n",
              "  }\n",
              "\n",
              "  [theme=dark] .colab-df-quickchart {\n",
              "      --bg-color: #3B4455;\n",
              "      --fill-color: #D2E3FC;\n",
              "      --hover-bg-color: #434B5C;\n",
              "      --hover-fill-color: #FFFFFF;\n",
              "      --disabled-bg-color: #3B4455;\n",
              "      --disabled-fill-color: #666;\n",
              "  }\n",
              "\n",
              "  .colab-df-quickchart {\n",
              "    background-color: var(--bg-color);\n",
              "    border: none;\n",
              "    border-radius: 50%;\n",
              "    cursor: pointer;\n",
              "    display: none;\n",
              "    fill: var(--fill-color);\n",
              "    height: 32px;\n",
              "    padding: 0;\n",
              "    width: 32px;\n",
              "  }\n",
              "\n",
              "  .colab-df-quickchart:hover {\n",
              "    background-color: var(--hover-bg-color);\n",
              "    box-shadow: 0 1px 2px rgba(60, 64, 67, 0.3), 0 1px 3px 1px rgba(60, 64, 67, 0.15);\n",
              "    fill: var(--button-hover-fill-color);\n",
              "  }\n",
              "\n",
              "  .colab-df-quickchart-complete:disabled,\n",
              "  .colab-df-quickchart-complete:disabled:hover {\n",
              "    background-color: var(--disabled-bg-color);\n",
              "    fill: var(--disabled-fill-color);\n",
              "    box-shadow: none;\n",
              "  }\n",
              "\n",
              "  .colab-df-spinner {\n",
              "    border: 2px solid var(--fill-color);\n",
              "    border-color: transparent;\n",
              "    border-bottom-color: var(--fill-color);\n",
              "    animation:\n",
              "      spin 1s steps(1) infinite;\n",
              "  }\n",
              "\n",
              "  @keyframes spin {\n",
              "    0% {\n",
              "      border-color: transparent;\n",
              "      border-bottom-color: var(--fill-color);\n",
              "      border-left-color: var(--fill-color);\n",
              "    }\n",
              "    20% {\n",
              "      border-color: transparent;\n",
              "      border-left-color: var(--fill-color);\n",
              "      border-top-color: var(--fill-color);\n",
              "    }\n",
              "    30% {\n",
              "      border-color: transparent;\n",
              "      border-left-color: var(--fill-color);\n",
              "      border-top-color: var(--fill-color);\n",
              "      border-right-color: var(--fill-color);\n",
              "    }\n",
              "    40% {\n",
              "      border-color: transparent;\n",
              "      border-right-color: var(--fill-color);\n",
              "      border-top-color: var(--fill-color);\n",
              "    }\n",
              "    60% {\n",
              "      border-color: transparent;\n",
              "      border-right-color: var(--fill-color);\n",
              "    }\n",
              "    80% {\n",
              "      border-color: transparent;\n",
              "      border-right-color: var(--fill-color);\n",
              "      border-bottom-color: var(--fill-color);\n",
              "    }\n",
              "    90% {\n",
              "      border-color: transparent;\n",
              "      border-bottom-color: var(--fill-color);\n",
              "    }\n",
              "  }\n",
              "</style>\n",
              "\n",
              "  <script>\n",
              "    async function quickchart(key) {\n",
              "      const quickchartButtonEl =\n",
              "        document.querySelector('#' + key + ' button');\n",
              "      quickchartButtonEl.disabled = true;  // To prevent multiple clicks.\n",
              "      quickchartButtonEl.classList.add('colab-df-spinner');\n",
              "      try {\n",
              "        const charts = await google.colab.kernel.invokeFunction(\n",
              "            'suggestCharts', [key], {});\n",
              "      } catch (error) {\n",
              "        console.error('Error during call to suggestCharts:', error);\n",
              "      }\n",
              "      quickchartButtonEl.classList.remove('colab-df-spinner');\n",
              "      quickchartButtonEl.classList.add('colab-df-quickchart-complete');\n",
              "    }\n",
              "    (() => {\n",
              "      let quickchartButtonEl =\n",
              "        document.querySelector('#df-47440c46-ec09-49e7-a9bc-d6e0a0d0cd32 button');\n",
              "      quickchartButtonEl.style.display =\n",
              "        google.colab.kernel.accessAllowed ? 'block' : 'none';\n",
              "    })();\n",
              "  </script>\n",
              "</div>\n",
              "\n",
              "    </div>\n",
              "  </div>\n"
            ],
            "text/plain": [
              "   year  month  rank net_worth     last_name            first_name  \\\n",
              "0  1997      7   NaN     2.0 B  Sophonpanich                Chatri   \n",
              "1  1997      7   NaN     1.8 B     Adulyadej         King Bhumibol   \n",
              "2  1998      7   NaN     3.3 B         Safra                Edmond   \n",
              "3  1999      7   NaN     1.0 B       Hinduja  Srichand, Gopichand,   \n",
              "4  1999      7   NaN     7.1 B       Schwarz                Dieter   \n",
              "\n",
              "                      full_name  birth_date   age gender  \\\n",
              "0  Chatri Sophonpanich & family  1934-02-28  73.0   Male   \n",
              "1       King Bhumibol Adulyadej  1927-12-05  69.0   Male   \n",
              "2                  Edmond Safra  1932-08-06  65.0   Male   \n",
              "3  Srichand & Gopichand Hinduja  1935-11-28   NaN    NaN   \n",
              "4                Dieter Schwarz  1939-09-24  59.0   Male   \n",
              "\n",
              "  country_of_citizenship country_of_residence city_of_residence  \\\n",
              "0               Thailand             Thailand           Bangkok   \n",
              "1               Thailand                  NaN               NaN   \n",
              "2                Lebanon              Lebanon               NaN   \n",
              "3                  India       United Kingdom            London   \n",
              "4                Germany              Germany        Neckarsulm   \n",
              "\n",
              "         business_category          business_industries organization_name  \\\n",
              "0  Finance and Investments  ['Finance and Investments']               NaN   \n",
              "1                      NaN                          NaN               NaN   \n",
              "2                      NaN                          NaN               NaN   \n",
              "3                      NaN                          NaN               NaN   \n",
              "4         Fashion & Retail         ['Fashion & Retail']               NaN   \n",
              "\n",
              "  position_in_organization self_made wealth_status  \n",
              "0                      NaN     False           NaN  \n",
              "1                      NaN     False           NaN  \n",
              "2                      NaN      True           NaN  \n",
              "3                      NaN     False           NaN  \n",
              "4                      NaN      True           NaN  "
            ]
          },
          "execution_count": 24,
          "metadata": {},
          "output_type": "execute_result"
        }
      ],
      "source": [
        "#visualizar as primeiras linhas\n",
        "dataset_billionaires.head()"
      ]
    },
    {
      "cell_type": "markdown",
      "metadata": {
        "id": "tosTK6ldyXtl"
      },
      "source": [
        "###Filtrar as linhas onde 'age' é nulo mas 'birth_date' não é nulo"
      ]
    },
    {
      "cell_type": "code",
      "execution_count": null,
      "metadata": {
        "colab": {
          "base_uri": "https://localhost:8080/"
        },
        "id": "n74T6dKbW1bc",
        "outputId": "bdc2b177-c100-496d-c8f0-b04f8675122d"
      },
      "outputs": [
        {
          "name": "stdout",
          "output_type": "stream",
          "text": [
            "                       full_name  birth_date  age\n",
            "3   Srichand & Gopichand Hinduja  1935-11-28  NaN\n",
            "7              Jose Luis Cutrale  1946-09-17  NaN\n",
            "11             Jose Luis Cutrale  1946-09-17  NaN\n",
            "13              Christoph Henkel  1958-02-11  NaN\n",
            "23              Christoph Henkel  1958-02-11  NaN\n"
          ]
        }
      ],
      "source": [
        "filtered_date_year = dataset_billionaires[dataset_billionaires['age'].isnull() & dataset_billionaires['birth_date'].notnull()]\n",
        "\n",
        "# Selecionar apenas as colunas 'birth_date' e 'age'\n",
        "filtered_date_year = filtered_date_year[['full_name', 'birth_date', 'age']]\n",
        "\n",
        "print(filtered_date_year.head())"
      ]
    },
    {
      "cell_type": "markdown",
      "metadata": {
        "id": "MN3DlG0hyAXx"
      },
      "source": [
        "###Calcular a idade"
      ]
    },
    {
      "cell_type": "code",
      "execution_count": null,
      "metadata": {
        "colab": {
          "base_uri": "https://localhost:8080/"
        },
        "id": "vLV2tntebcu8",
        "outputId": "e7ee7544-377d-4f96-8f96-68bea0a4dd2e"
      },
      "outputs": [
        {
          "name": "stdout",
          "output_type": "stream",
          "text": [
            "                      full_name birth_date   age\n",
            "0  Chatri Sophonpanich & family 1934-02-28  90.0\n",
            "1       King Bhumibol Adulyadej 1927-12-05  96.0\n",
            "2                  Edmond Safra 1932-08-06  91.0\n",
            "3  Srichand & Gopichand Hinduja 1935-11-28  88.0\n",
            "4                Dieter Schwarz 1939-09-24  84.0\n"
          ]
        }
      ],
      "source": [
        "from datetime import datetime\n",
        "\n",
        "def calculate_age(birth_date):\n",
        "    birth_date = pd.to_datetime(birth_date)\n",
        "    today = datetime.today()\n",
        "    age = today.year - birth_date.year - ((today.month, today.day) < (birth_date.month, birth_date.day))\n",
        "    return age\n",
        "\n",
        "# Converter 'birth_date' para datetime\n",
        "dataset_billionaires['birth_date'] = pd.to_datetime(dataset_billionaires['birth_date'], format='%Y-%m-%d', errors='coerce')\n",
        "\n",
        "# Atualizar a coluna 'age'\n",
        "dataset_billionaires['age'] = dataset_billionaires['birth_date'].apply(lambda x: calculate_age(x) if pd.notnull(x) else None)\n",
        "\n",
        "print(dataset_billionaires[['full_name', 'birth_date', 'age']].head())"
      ]
    },
    {
      "cell_type": "markdown",
      "metadata": {
        "id": "lpNBCALDy0V4"
      },
      "source": [
        "# Preencher valores nulos de 'country_of_citizenship' / País de cidadania\n"
      ]
    },
    {
      "cell_type": "code",
      "execution_count": null,
      "metadata": {
        "colab": {
          "base_uri": "https://localhost:8080/"
        },
        "id": "ocT4fYqjfudR",
        "outputId": "94bf04ed-497f-4463-ea2b-bd9b97b175ce"
      },
      "outputs": [
        {
          "name": "stdout",
          "output_type": "stream",
          "text": [
            "                  full_name country_of_citizenship\n",
            "1074           Micky Arison                    NaN\n",
            "1154          Henry Hillman                    NaN\n",
            "1199  Charles Butt & family                    NaN\n",
            "1305         Charles Munger                    NaN\n",
            "1363          Robert McNair                    NaN\n"
          ]
        }
      ],
      "source": [
        "# Filtrar as linhas onde 'country_of_citizenship' é nulo\n",
        "filtered_country_null = dataset_billionaires[dataset_billionaires['country_of_citizenship'].isnull()]\n",
        "\n",
        "# Selecionar apenas as colunas\n",
        "filtered_country_null = filtered_country_null[['full_name', 'country_of_citizenship']]\n",
        "\n",
        "print(filtered_country_null.head())"
      ]
    },
    {
      "cell_type": "markdown",
      "metadata": {
        "id": "mR-jziKDzNdr"
      },
      "source": [
        "### Preencher valores nulos para os bilionários específicos"
      ]
    },
    {
      "cell_type": "code",
      "execution_count": null,
      "metadata": {
        "id": "Vh0dRNQZi8TC"
      },
      "outputs": [],
      "source": [
        "dataset_billionaires.loc[dataset_billionaires['full_name'] == 'Micky Arison', 'country_of_citizenship'] = 'Israel'\n",
        "dataset_billionaires.loc[dataset_billionaires['full_name'] == 'Henry Hillman', 'country_of_citizenship'] = 'United States'\n",
        "dataset_billionaires.loc[dataset_billionaires['full_name'] == 'Charles Butt & family', 'country_of_citizenship'] = 'United States'\n",
        "dataset_billionaires.loc[dataset_billionaires['full_name'] == 'Charles Munger', 'country_of_citizenship'] = 'United States'\n",
        "dataset_billionaires.loc[dataset_billionaires['full_name'] == 'Robert McNair', 'country_of_citizenship'] = 'United States'"
      ]
    },
    {
      "cell_type": "markdown",
      "metadata": {
        "id": "FsSR0-WVz__G"
      },
      "source": [
        "#Preencher valores nulos de 'gender' / gênero"
      ]
    },
    {
      "cell_type": "code",
      "execution_count": null,
      "metadata": {
        "colab": {
          "base_uri": "https://localhost:8080/",
          "height": 449
        },
        "id": "-MhoTEqYX5Zz",
        "outputId": "c4dcc61b-626f-4841-974b-10a82d50683d"
      },
      "outputs": [
        {
          "data": {
            "image/png": "[encoded data removed]",
            "text/plain": [
              "<Figure size 640x480 with 1 Axes>"
            ]
          },
          "metadata": {},
          "output_type": "display_data"
        }
      ],
      "source": [
        "sns.countplot(x='gender', data=dataset_billionaires);"
      ]
    },
    {
      "cell_type": "code",
      "execution_count": null,
      "metadata": {
        "colab": {
          "base_uri": "https://localhost:8080/"
        },
        "id": "quY4bNfrk1ls",
        "outputId": "95d72b9d-105d-4177-cd19-bbe7ecfafc22"
      },
      "outputs": [
        {
          "name": "stdout",
          "output_type": "stream",
          "text": [
            "                       full_name gender\n",
            "3   Srichand & Gopichand Hinduja    NaN\n",
            "13              Christoph Henkel    NaN\n",
            "20                Warren Buffett    NaN\n",
            "22              Lawrence Ellison    NaN\n",
            "23              Christoph Henkel    NaN\n"
          ]
        }
      ],
      "source": [
        "# Filtrar as linhas onde 'country_of_citizenship' é nulo\n",
        "filtered_gender_null = dataset_billionaires[dataset_billionaires['gender'].isnull()]\n",
        "\n",
        "# Selecionar apenas as colunas\n",
        "filtered_gender_null = filtered_gender_null[['full_name', 'gender']]\n",
        "\n",
        "print(filtered_gender_null.head())"
      ]
    },
    {
      "cell_type": "markdown",
      "metadata": {
        "id": "iz-tjoZk0dW8"
      },
      "source": [
        "### Preencher valores nulos para os bilionários específicos"
      ]
    },
    {
      "cell_type": "code",
      "execution_count": null,
      "metadata": {
        "id": "3jLRQDzhlKZf"
      },
      "outputs": [],
      "source": [
        "dataset_billionaires.loc[dataset_billionaires['full_name'] == 'Srichand & Gopichand Hinduja', 'gender'] = 'Male'\n",
        "dataset_billionaires.loc[dataset_billionaires['full_name'] == 'Christoph Henkel', 'gender'] = 'Male'\n",
        "dataset_billionaires.loc[dataset_billionaires['full_name'] == 'Warren Buffett', 'gender'] = 'Male'\n",
        "dataset_billionaires.loc[dataset_billionaires['full_name'] == 'Lawrence Ellison', 'gender'] = 'Male'\n",
        "dataset_billionaires.loc[dataset_billionaires['full_name'] == 'Christoph Henkel', 'gender'] = 'Male'"
      ]
    },
    {
      "cell_type": "markdown",
      "metadata": {
        "id": "IpWyNyuE04L_"
      },
      "source": [
        "\n",
        "\n",
        "#Análise dos Dados\n",
        "\n"
      ]
    },
    {
      "cell_type": "markdown",
      "metadata": {
        "id": "fLSFOJqS0qUo"
      },
      "source": [
        "\n",
        "\n",
        "---\n",
        "\n"
      ]
    },
    {
      "cell_type": "markdown",
      "metadata": {
        "id": "oIYUILQvM8Z5"
      },
      "source": [
        "# Qual o full_name (nome completo) mais frequente?"
      ]
    },
    {
      "cell_type": "markdown",
      "metadata": {
        "id": "dnqIwJqoT5tq"
      },
      "source": [
        "### Adicionar uma coluna 'age_in_year' calculando a idade"
      ]
    },
    {
      "cell_type": "markdown",
      "metadata": {
        "id": "yrXd2kBn5XnM"
      },
      "source": [
        "# Análise Demográfica:"
      ]
    },
    {
      "cell_type": "markdown",
      "metadata": {
        "id": "_c_m2fggNWHo"
      },
      "source": [
        "## Análise pela idade\n",
        "### O bilionário mais velho e o mais novo"
      ]
    },
    {
      "cell_type": "markdown",
      "metadata": {
        "id": "64_el9h60Tue"
      },
      "source": [
        "###A média de idade por cada grupo, por:\n",
        "* indústrias de negócios\n",
        "* posição na organização\n",
        "* próprios esforços | ou herança\n",
        "* gênero"
      ]
    },
    {
      "cell_type": "markdown",
      "metadata": {
        "id": "6cTNxf8HiLuT"
      },
      "source": [
        "##Distribuição por Idade e Gênero"
      ]
    },
    {
      "cell_type": "markdown",
      "metadata": {
        "id": "2PBM8RF3kfeg"
      },
      "source": [
        "## Gráfico com tendência de idade ao longo do tempo"
      ]
    },
    {
      "cell_type": "markdown",
      "metadata": {
        "id": "BqGyLswOhbx1"
      },
      "source": [
        "##Distribuição por País e Cidade\n",
        "País de cidadania e País de Residência"
      ]
    },
    {
      "cell_type": "markdown",
      "metadata": {
        "id": "6frTVYTOm-Z7"
      },
      "source": [
        "* Contar o número de bilionários por país de residência\n",
        "* Top 10 países onde moram os bilionários\n",
        "* Top 10 cidades onde moram os bilionários"
      ]
    },
    {
      "cell_type": "markdown",
      "metadata": {
        "id": "MIMHfBuv5a5J"
      },
      "source": [
        "#Análise de Setores e Indústrias:"
      ]
    },
    {
      "cell_type": "markdown",
      "metadata": {
        "id": "ir5CI0ndpCbs"
      },
      "source": [
        "##Setores onde têm mais e menos bilionários"
      ]
    },
    {
      "cell_type": "markdown",
      "metadata": {
        "id": "4TTsPLNY5v1f"
      },
      "source": [
        "#Análise de Posições Organizacionais:\n",
        "\n",
        "Posições mais comuns entre os bilionários"
      ]
    },
    {
      "cell_type": "markdown",
      "metadata": {
        "id": "Mw6zVLEyuOIE"
      },
      "source": [
        "#### Top+: Empreendedor, Presidente, Fundador"
      ]
    },
    {
      "cell_type": "markdown",
      "metadata": {
        "id": "Thg_8aHTtYrE"
      },
      "source": [
        "## Distribuição de cargos dos bilionários"
      ]
    },
    {
      "cell_type": "markdown",
      "metadata": {
        "id": "42bqtUOFtqWA"
      },
      "source": [
        "## Diversidade de gênero em cargos de liderança"
      ]
    },
    {
      "cell_type": "markdown",
      "metadata": {
        "id": "bw1DUpJOud_r"
      },
      "source": [
        "##As 10 principais organizações por número de bilionários"
      ]
    },
    {
      "cell_type": "markdown",
      "metadata": {
        "id": "WVeuTAQy5p9M"
      },
      "source": [
        "#Análise de Autossuficiência:\n",
        "\n",
        "Bilionários que construíram sua própria riqueza versus aqueles que herdaram"
      ]
    },
    {
      "cell_type": "markdown",
      "metadata": {
        "id": "F2acDzk12pKy"
      },
      "source": [
        "## Distribuição de Bilionários Self-Made vs herdado ao longo dos anos\n",
        "Conseguiu com os próprios esforços ou herança"
      ]
    },
    {
      "cell_type": "markdown",
      "metadata": {
        "id": "b0Oe6kEB3oeB"
      },
      "source": [
        "##Distribuição de Bilionários Self-Made vs Inherited por País (Top 10 países)"
      ]
    },
    {
      "cell_type": "markdown",
      "metadata": {
        "id": "Gmh1-Arc4UAu"
      },
      "source": [
        "## Proporção de bilionários self-made vs inherited por indústria (top 10 indústrias)"
      ]
    },
    {
      "cell_type": "markdown",
      "metadata": {
        "id": "whMpv7194srI"
      },
      "source": [
        "## Contagem de bilionários self-made vs inherited por gênero"
      ]
    },
    {
      "cell_type": "markdown",
      "metadata": {
        "id": "WRaR0Dvi5N3X"
      },
      "source": [
        "#Análise Temporal:\n",
        "\n",
        "Tendências de Crescimento. A evolução do patrimônio líquido total e médio dos bilionários."
      ]
    },
    {
      "cell_type": "markdown",
      "metadata": {
        "id": "pDGPuMTZEVHr"
      },
      "source": [
        "## Os maiores valores de net_worth (patrimônio líquido)\n",
        "### Gráfico com Top 10 Bilionários por Patrimônio Líquido"
      ]
    },
    {
      "cell_type": "markdown",
      "metadata": {
        "id": "6eWwpqamrWGp"
      },
      "source": [
        "## Tendência de bilionários a cada ano com previsão"
      ]
    },
    {
      "cell_type": "markdown",
      "metadata": {
        "id": "xud69Qqf6NZx"
      },
      "source": [
        "### Modelo ARIMA para prever a tendência futura do número de bilionários"
      ]
    },
    {
      "cell_type": "markdown",
      "metadata": {
        "id": "eHzEkhgfWI9p"
      },
      "source": [
        "## Tendências de Crescimento\n",
        "### O bilionário mais rico em cada ano\n",
        "### Gráfico com tendência dos bilionários mais rico ao longo dos anos"
      ]
    },
    {
      "cell_type": "markdown",
      "metadata": {
        "id": "HH20344V76rC"
      },
      "source": [
        "##Filtrar dados por um bilionário.\n",
        "###Gráfico da tendência do mais rico com o seu patrimônio líquido ao longo dos anos"
      ]
    },
    {
      "cell_type": "markdown",
      "metadata": {
        "id": "qCqI7Bol8_2s"
      },
      "source": [
        "___________________________________________________________________"
      ]
    },
    {
      "cell_type": "markdown",
      "metadata": {
        "id": "qfO-cJWtAqHL"
      },
      "source": [
        "# Quais são as Mulheres bilionárias?"
      ]
    },
    {
      "cell_type": "markdown",
      "metadata": {
        "id": "GQJz19E5ADB_"
      },
      "source": [
        "##Quando apareceu a primeira mulher na revista?"
      ]
    }
  ],
  "metadata": {
    "colab": {
      "collapsed_sections": [
        "LY01vvA71B5H",
        "OGY9zDcbqXy_",
        "6CV4-6bzqhVw",
        "DnMCHVK5q0Fl",
        "hMhnQR8zqv7J",
        "eH1DEXPwrDVz",
        "LJ26Id4WrM9F",
        "oUE67OvNrTEc",
        "HptXWGanvYAu",
        "v_Vr8wBXwYEI",
        "lpNBCALDy0V4",
        "FsSR0-WVz__G",
        "IpWyNyuE04L_",
        "oIYUILQvM8Z5",
        "yrXd2kBn5XnM",
        "6cTNxf8HiLuT",
        "BqGyLswOhbx1",
        "6frTVYTOm-Z7",
        "CMyGCQeEohrF",
        "MIMHfBuv5a5J",
        "4TTsPLNY5v1f",
        "WVeuTAQy5p9M",
        "F2acDzk12pKy",
        "WRaR0Dvi5N3X",
        "pDGPuMTZEVHr",
        "Y6StC4I7Ekyb",
        "eHzEkhgfWI9p",
        "HH20344V76rC",
        "3FxmVAI_fqni",
        "FZ3fRFoL9Uqf",
        "EUt3Z0nV9dX4",
        "muPiqQ2u-B14",
        "xahCjPaP-WMQ",
        "b6Q_BIGX-lpw"
      ],
      "provenance": []
    },
    "kernelspec": {
      "display_name": "Python 3",
      "name": "python3"
    },
    "language_info": {
      "name": "python"
    }
  },
  "nbformat": 4,
  "nbformat_minor": 0
}